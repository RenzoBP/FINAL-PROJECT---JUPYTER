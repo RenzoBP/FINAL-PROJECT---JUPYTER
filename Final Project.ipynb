{
  "metadata": {
    "kernelspec": {
      "name": "python",
      "display_name": "Python (Pyodide)",
      "language": "python"
    },
    "language_info": {
      "codemirror_mode": {
        "name": "python",
        "version": 3
      },
      "file_extension": ".py",
      "mimetype": "text/x-python",
      "name": "python",
      "nbconvert_exporter": "python",
      "pygments_lexer": "ipython3",
      "version": "3.8"
    }
  },
  "nbformat_minor": 4,
  "nbformat": 4,
  "cells": [
    {
      "cell_type": "markdown",
      "source": "# Data Science Tools and Ecosystem",
      "metadata": {}
    },
    {
      "cell_type": "markdown",
      "source": "In this notebook, Data Science Tools and Ecosystem are summarized.",
      "metadata": {}
    },
    {
      "cell_type": "markdown",
      "source": "### Some of the popular languages that Data Scientists use are: \n1. Python\n2. R\n3. SQL\n4. Julia",
      "metadata": {}
    },
    {
      "cell_type": "markdown",
      "source": "### Some of the commonly used libraries used by Data Scientists include: \n1. Pandas\n2. NumPy\n3. Matplotlib\n4. Scikit-learn",
      "metadata": {}
    },
    {
      "cell_type": "markdown",
      "source": "## Herramientas de Ciencia de Datos\n\n| Herramienta | Tipo | Propósito |\n|-------------|------|-----------|\n| Jupyter Notebook | IDE | Desarrollo interactivo |\n| VS Code | Editor | Desarrollo general |\n| RStudio | IDE | Desarrollo en R |\n| Apache Spark | Procesamiento | Big Data |\n| Tableau | Visualización | Dashboards |\n| MySQL | Base de datos | Almacenamiento |\n| Docker | Contenedores | Deployment |\n| Git | Control versiones | Colaboración |",
      "metadata": {}
    },
    {
      "cell_type": "markdown",
      "source": "## Expresiones Aritméticas en Ciencia de Datos\n\nEn ciencia de datos, frecuentemente utilizamos expresiones aritméticas para:\n\n- Normalización de datos: `(x - min) / (max - min)`\n- Cálculo de métricas: `precision = TP / (TP + FP)`\n- Transformaciones: `log_transform = log(x + 1)`\n- Operaciones vectoriales: `resultado = vector1 + vector2`",
      "metadata": {}
    },
    {
      "cell_type": "code",
      "source": "# Ejercicio 8: Multiplicar y sumar números\n\n# Definimos algunos números\na = 5\nb = 3\nc = 10\n\n# Multiplicación\nresultado_multiplicacion = a * b * c\nprint(f\"Multiplicación: {a} * {b} * {c} = {resultado_multiplicacion}\")\n\n# Suma\nresultado_suma = a + b + c\nprint(f\"Suma: {a} + {b} + {c} = {resultado_suma}\")\n\n# Combinación de operaciones\nresultado_combinado = (a * b) + c\nprint(f\"Combinación: ({a} * {b}) + {c} = {resultado_combinado}\")",
      "metadata": {
        "trusted": true
      },
      "outputs": [
        {
          "name": "stdout",
          "text": "Multiplicación: 5 * 3 * 10 = 150\nSuma: 5 + 3 + 10 = 18\nCombinación: (5 * 3) + 10 = 25\n",
          "output_type": "stream"
        }
      ],
      "execution_count": 1
    },
    {
      "cell_type": "code",
      "source": "# Ejercicio 9: Convertir minutos a horas\n\ndef minutos_a_horas(minutos):\n    \"\"\"Convierte minutos a horas y minutos restantes\"\"\"\n    horas = minutos // 60\n    minutos_restantes = minutos % 60\n    return horas, minutos_restantes\n\n# Ejemplos de conversión\nejemplos_minutos = [90, 150, 45, 200, 75]\n\nprint(\"Conversión de minutos a horas:\")\nprint(\"-\" * 35)\n\nfor minutos in ejemplos_minutos:\n    horas, mins = minutos_a_horas(minutos)\n    print(f\"{minutos} minutos = {horas} horas y {mins} minutos\")\n\n# Conversión específica\nminutos_input = 125\nhoras_result, minutos_result = minutos_a_horas(minutos_input)\nprint(f\"\\nEjemplo específico: {minutos_input} minutos son {horas_result} horas y {minutos_result} minutos\")",
      "metadata": {
        "trusted": true
      },
      "outputs": [
        {
          "name": "stdout",
          "text": "Conversión de minutos a horas:\n-----------------------------------\n90 minutos = 1 horas y 30 minutos\n150 minutos = 2 horas y 30 minutos\n45 minutos = 0 horas y 45 minutos\n200 minutos = 3 horas y 20 minutos\n75 minutos = 1 horas y 15 minutos\n\nEjemplo específico: 125 minutos son 2 horas y 5 minutos\n",
          "output_type": "stream"
        }
      ],
      "execution_count": 2
    },
    {
      "cell_type": "code",
      "source": "# Ejercicio 10: Objetivos de Aprendizaje\n\nobjetivos = [\n    \"Comprender los fundamentos de la ciencia de datos\",\n    \"Aprender a utilizar Jupyter Notebooks\",\n    \"Familiarizarse con Python para análisis de datos\",\n    \"Explorar bibliotecas esenciales como Pandas y NumPy\",\n    \"Desarrollar habilidades en visualización de datos\",\n    \"Aprender técnicas básicas de machine learning\",\n    \"Manejar datos de diferentes fuentes y formatos\",\n    \"Practicar la limpieza y preprocesamiento de datos\",\n    \"Implementar soluciones de datos end-to-end\",\n    \"Comprender la ética en ciencia de datos\"\n]\n\nprint(\"Objetivos de Aprendizaje en Ciencia de Datos\")\nprint(\"=\" * 50)\n\nfor i, objetivo in enumerate(objetivos, 1):\n    print(f\"- {objetivo}\")\n\nprint(f\"\\nTotal de objetivos: {len(objetivos)}\")",
      "metadata": {
        "trusted": true
      },
      "outputs": [
        {
          "name": "stdout",
          "text": "🎯 Objetivos de Aprendizaje en Ciencia de Datos\n==================================================\n- Comprender los fundamentos de la ciencia de datos\n- Aprender a utilizar Jupyter Notebooks\n- Familiarizarse con Python para análisis de datos\n- Explorar bibliotecas esenciales como Pandas y NumPy\n- Desarrollar habilidades en visualización de datos\n- Aprender técnicas básicas de machine learning\n- Manejar datos de diferentes fuentes y formatos\n- Practicar la limpieza y preprocesamiento de datos\n- Implementar soluciones de datos end-to-end\n- Comprender la ética en ciencia de datos\n\nTotal de objetivos: 10\n",
          "output_type": "stream"
        }
      ],
      "execution_count": 5
    },
    {
      "cell_type": "markdown",
      "source": "## Autor\n\n**Nombre:** Renzo Alberto Bermudez Palomino\n**Fecha:** 27-12-2025\n**Curso:** Data Science Tools\n**Institución:** UPC\n\n---\n\n*Este cuaderno fue creado como proyecto final del curso de herramientas de ciencia de datos.*",
      "metadata": {}
    },
    {
      "cell_type": "code",
      "source": "",
      "metadata": {
        "trusted": true
      },
      "outputs": [],
      "execution_count": null
    }
  ]
}